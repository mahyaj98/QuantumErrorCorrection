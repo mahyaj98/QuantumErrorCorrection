{
  "nbformat": 4,
  "nbformat_minor": 0,
  "metadata": {
    "colab": {
      "provenance": []
    },
    "kernelspec": {
      "name": "python3",
      "display_name": "Python 3"
    },
    "language_info": {
      "name": "python"
    }
  },
  "cells": [
    {
      "cell_type": "code",
      "source": [
        "!pip install qiskit"
      ],
      "metadata": {
        "colab": {
          "base_uri": "https://localhost:8080/"
        },
        "id": "6oHTwwhjG_2Y",
        "outputId": "0e51182c-ec09-44c5-ed33-642a8a2670e6"
      },
      "execution_count": 2,
      "outputs": [
        {
          "output_type": "stream",
          "name": "stdout",
          "text": [
            "Looking in indexes: https://pypi.org/simple, https://us-python.pkg.dev/colab-wheels/public/simple/\n",
            "Collecting qiskit\n",
            "  Downloading qiskit-0.42.1.tar.gz (14 kB)\n",
            "  Preparing metadata (setup.py) ... \u001b[?25l\u001b[?25hdone\n",
            "Collecting qiskit-terra==0.23.3\n",
            "  Downloading qiskit_terra-0.23.3-cp39-cp39-manylinux_2_17_x86_64.manylinux2014_x86_64.whl (5.1 MB)\n",
            "\u001b[2K     \u001b[90m━━━━━━━━━━━━━━━━━━━━━━━━━━━━━━━━━━━━━━━━\u001b[0m \u001b[32m5.1/5.1 MB\u001b[0m \u001b[31m56.6 MB/s\u001b[0m eta \u001b[36m0:00:00\u001b[0m\n",
            "\u001b[?25hCollecting qiskit-aer==0.12.0\n",
            "  Downloading qiskit_aer-0.12.0-cp39-cp39-manylinux_2_17_x86_64.manylinux2014_x86_64.whl (12.8 MB)\n",
            "\u001b[2K     \u001b[90m━━━━━━━━━━━━━━━━━━━━━━━━━━━━━━━━━━━━━━━━\u001b[0m \u001b[32m12.8/12.8 MB\u001b[0m \u001b[31m75.3 MB/s\u001b[0m eta \u001b[36m0:00:00\u001b[0m\n",
            "\u001b[?25hCollecting qiskit-ibmq-provider==0.20.2\n",
            "  Downloading qiskit_ibmq_provider-0.20.2-py3-none-any.whl (241 kB)\n",
            "\u001b[2K     \u001b[90m━━━━━━━━━━━━━━━━━━━━━━━━━━━━━━━━━━━━━━\u001b[0m \u001b[32m241.5/241.5 kB\u001b[0m \u001b[31m22.4 MB/s\u001b[0m eta \u001b[36m0:00:00\u001b[0m\n",
            "\u001b[?25hRequirement already satisfied: numpy>=1.16.3 in /usr/local/lib/python3.9/dist-packages (from qiskit-aer==0.12.0->qiskit) (1.22.4)\n",
            "Requirement already satisfied: scipy>=1.0 in /usr/local/lib/python3.9/dist-packages (from qiskit-aer==0.12.0->qiskit) (1.10.1)\n",
            "Collecting websockets>=10.0\n",
            "  Downloading websockets-11.0.1-cp39-cp39-manylinux_2_5_x86_64.manylinux1_x86_64.manylinux_2_17_x86_64.manylinux2014_x86_64.whl (129 kB)\n",
            "\u001b[2K     \u001b[90m━━━━━━━━━━━━━━━━━━━━━━━━━━━━━━━━━━━━━━\u001b[0m \u001b[32m129.5/129.5 kB\u001b[0m \u001b[31m12.7 MB/s\u001b[0m eta \u001b[36m0:00:00\u001b[0m\n",
            "\u001b[?25hRequirement already satisfied: requests>=2.19 in /usr/local/lib/python3.9/dist-packages (from qiskit-ibmq-provider==0.20.2->qiskit) (2.27.1)\n",
            "Requirement already satisfied: websocket-client>=1.5.1 in /usr/local/lib/python3.9/dist-packages (from qiskit-ibmq-provider==0.20.2->qiskit) (1.5.1)\n",
            "Requirement already satisfied: python-dateutil>=2.8.0 in /usr/local/lib/python3.9/dist-packages (from qiskit-ibmq-provider==0.20.2->qiskit) (2.8.2)\n",
            "Collecting requests-ntlm<=1.1.0\n",
            "  Downloading requests_ntlm-1.1.0-py2.py3-none-any.whl (5.7 kB)\n",
            "Requirement already satisfied: urllib3>=1.21.1 in /usr/local/lib/python3.9/dist-packages (from qiskit-ibmq-provider==0.20.2->qiskit) (1.26.15)\n",
            "Collecting dill>=0.3\n",
            "  Downloading dill-0.3.6-py3-none-any.whl (110 kB)\n",
            "\u001b[2K     \u001b[90m━━━━━━━━━━━━━━━━━━━━━━━━━━━━━━━━━━━━━━━\u001b[0m \u001b[32m110.5/110.5 kB\u001b[0m \u001b[31m9.9 MB/s\u001b[0m eta \u001b[36m0:00:00\u001b[0m\n",
            "\u001b[?25hRequirement already satisfied: sympy>=1.3 in /usr/local/lib/python3.9/dist-packages (from qiskit-terra==0.23.3->qiskit) (1.11.1)\n",
            "Collecting rustworkx>=0.12.0\n",
            "  Downloading rustworkx-0.12.1-cp39-cp39-manylinux_2_17_x86_64.manylinux2014_x86_64.whl (1.9 MB)\n",
            "\u001b[2K     \u001b[90m━━━━━━━━━━━━━━━━━━━━━━━━━━━━━━━━━━━━━━━━\u001b[0m \u001b[32m1.9/1.9 MB\u001b[0m \u001b[31m49.9 MB/s\u001b[0m eta \u001b[36m0:00:00\u001b[0m\n",
            "\u001b[?25hCollecting stevedore>=3.0.0\n",
            "  Downloading stevedore-5.0.0-py3-none-any.whl (49 kB)\n",
            "\u001b[2K     \u001b[90m━━━━━━━━━━━━━━━━━━━━━━━━━━━━━━━━━━━━━━━━\u001b[0m \u001b[32m49.6/49.6 kB\u001b[0m \u001b[31m5.8 MB/s\u001b[0m eta \u001b[36m0:00:00\u001b[0m\n",
            "\u001b[?25hCollecting symengine>=0.9\n",
            "  Downloading symengine-0.10.0-cp39-cp39-manylinux_2_12_x86_64.manylinux2010_x86_64.whl (37.5 MB)\n",
            "\u001b[2K     \u001b[90m━━━━━━━━━━━━━━━━━━━━━━━━━━━━━━━━━━━━━━━━\u001b[0m \u001b[32m37.5/37.5 MB\u001b[0m \u001b[31m16.0 MB/s\u001b[0m eta \u001b[36m0:00:00\u001b[0m\n",
            "\u001b[?25hRequirement already satisfied: psutil>=5 in /usr/local/lib/python3.9/dist-packages (from qiskit-terra==0.23.3->qiskit) (5.9.4)\n",
            "Collecting ply>=3.10\n",
            "  Downloading ply-3.11-py2.py3-none-any.whl (49 kB)\n",
            "\u001b[2K     \u001b[90m━━━━━━━━━━━━━━━━━━━━━━━━━━━━━━━━━━━━━━━━\u001b[0m \u001b[32m49.6/49.6 kB\u001b[0m \u001b[31m5.6 MB/s\u001b[0m eta \u001b[36m0:00:00\u001b[0m\n",
            "\u001b[?25hRequirement already satisfied: six>=1.5 in /usr/local/lib/python3.9/dist-packages (from python-dateutil>=2.8.0->qiskit-ibmq-provider==0.20.2->qiskit) (1.16.0)\n",
            "Requirement already satisfied: certifi>=2017.4.17 in /usr/local/lib/python3.9/dist-packages (from requests>=2.19->qiskit-ibmq-provider==0.20.2->qiskit) (2022.12.7)\n",
            "Requirement already satisfied: idna<4,>=2.5 in /usr/local/lib/python3.9/dist-packages (from requests>=2.19->qiskit-ibmq-provider==0.20.2->qiskit) (3.4)\n",
            "Requirement already satisfied: charset-normalizer~=2.0.0 in /usr/local/lib/python3.9/dist-packages (from requests>=2.19->qiskit-ibmq-provider==0.20.2->qiskit) (2.0.12)\n",
            "Collecting ntlm-auth>=1.0.2\n",
            "  Downloading ntlm_auth-1.5.0-py2.py3-none-any.whl (29 kB)\n",
            "Requirement already satisfied: cryptography>=1.3 in /usr/local/lib/python3.9/dist-packages (from requests-ntlm<=1.1.0->qiskit-ibmq-provider==0.20.2->qiskit) (40.0.1)\n",
            "Collecting pbr!=2.1.0,>=2.0.0\n",
            "  Downloading pbr-5.11.1-py2.py3-none-any.whl (112 kB)\n",
            "\u001b[2K     \u001b[90m━━━━━━━━━━━━━━━━━━━━━━━━━━━━━━━━━━━━━━\u001b[0m \u001b[32m112.7/112.7 kB\u001b[0m \u001b[31m12.7 MB/s\u001b[0m eta \u001b[36m0:00:00\u001b[0m\n",
            "\u001b[?25hRequirement already satisfied: mpmath>=0.19 in /usr/local/lib/python3.9/dist-packages (from sympy>=1.3->qiskit-terra==0.23.3->qiskit) (1.3.0)\n",
            "Requirement already satisfied: cffi>=1.12 in /usr/local/lib/python3.9/dist-packages (from cryptography>=1.3->requests-ntlm<=1.1.0->qiskit-ibmq-provider==0.20.2->qiskit) (1.15.1)\n",
            "Requirement already satisfied: pycparser in /usr/local/lib/python3.9/dist-packages (from cffi>=1.12->cryptography>=1.3->requests-ntlm<=1.1.0->qiskit-ibmq-provider==0.20.2->qiskit) (2.21)\n",
            "Building wheels for collected packages: qiskit\n",
            "  Building wheel for qiskit (setup.py) ... \u001b[?25l\u001b[?25hdone\n",
            "  Created wheel for qiskit: filename=qiskit-0.42.1-py3-none-any.whl size=12938 sha256=d02fe00112569a68d86f27d4603b26287e911a2c6eb2d01a0e0f7514895e042e\n",
            "  Stored in directory: /root/.cache/pip/wheels/40/64/74/29c046bda04fd60f3f6b2e244fa85b70f219e363fc3373f541\n",
            "Successfully built qiskit\n",
            "Installing collected packages: ply, websockets, symengine, rustworkx, pbr, ntlm-auth, dill, stevedore, requests-ntlm, qiskit-terra, qiskit-ibmq-provider, qiskit-aer, qiskit\n",
            "Successfully installed dill-0.3.6 ntlm-auth-1.5.0 pbr-5.11.1 ply-3.11 qiskit-0.42.1 qiskit-aer-0.12.0 qiskit-ibmq-provider-0.20.2 qiskit-terra-0.23.3 requests-ntlm-1.1.0 rustworkx-0.12.1 stevedore-5.0.0 symengine-0.10.0 websockets-11.0.1\n"
          ]
        }
      ]
    },
    {
      "cell_type": "markdown",
      "source": [
        "#An example code for three-qubit Bit-flip error correcting code\n",
        "\n",
        "Here is the code to simulate the 3-qubit error correcting code with an X error on the second qubit:"
      ],
      "metadata": {
        "id": "saHh3T-VzqTF"
      }
    },
    {
      "cell_type": "code",
      "source": [
        "from qiskit import QuantumCircuit, Aer, execute\n",
        "from qiskit.providers.aer import QasmSimulator\n",
        "\n",
        "# Create the three qubits\n",
        "q = QuantumRegister(3, 'q')\n",
        "\n",
        "# Create the three classical bits for storing the syndrome\n",
        "c = ClassicalRegister(3, 'c')\n",
        "\n",
        "# Create the error correction circuit\n",
        "error = QuantumCircuit(q, c)\n",
        "\n",
        "# Apply the bit-flip error on the second qubit\n",
        "error.x(q[1])\n",
        "\n",
        "# Create the code for error correction\n",
        "code = QuantumCircuit(q, c)\n",
        "\n",
        "# Apply the CNOT gate to detect the error\n",
        "code.cx(q[0], q[1])\n",
        "code.cx(q[1], q[2])\n",
        "\n",
        "# Measure the qubits to obtain the syndrome\n",
        "code.measure(q[0], c[0])\n",
        "code.measure(q[1], c[1])\n",
        "code.measure(q[2], c[2])\n",
        "\n",
        "# Correct the error\n",
        "correction = QuantumCircuit(q, c)\n",
        "\n",
        "if c[2] == 1:\n",
        "    correction.x(q[2])\n",
        "if c[1] == 1:\n",
        "    correction.x(q[1])\n",
        "if c[0] == 1:\n",
        "    correction.x(q[0])\n",
        "\n",
        "# Combine the error, code, and correction circuits\n",
        "# circuit = error + code + correction\n",
        "\n",
        "circuit = code.compose(error, range(3))\n",
        "circuit = circuit.compose(correction, range(3))\n",
        "\n",
        "# Simulate the circuit\n",
        "simulator = Aer.get_backend('qasm_simulator')\n",
        "result = execute(circuit, backend=simulator, shots=1024).result()\n",
        "\n",
        "# Print the counts\n",
        "counts = result.get_counts(circuit)\n",
        "print(counts)\n",
        "plot_histogram(counts)\n"
      ],
      "metadata": {
        "colab": {
          "base_uri": "https://localhost:8080/",
          "height": 489
        },
        "id": "GFZWvJXRzxy2",
        "outputId": "92c8d904-9b49-4bfd-f527-736f897903bf"
      },
      "execution_count": 19,
      "outputs": [
        {
          "output_type": "stream",
          "name": "stdout",
          "text": [
            "{'000': 1024}\n"
          ]
        },
        {
          "output_type": "execute_result",
          "data": {
            "text/plain": [
              "<Figure size 700x500 with 1 Axes>"
            ],
            "image/png": "[encoded data removed]"
          },
          "metadata": {},
          "execution_count": 19
        }
      ]
    },
    {
      "cell_type": "markdown",
      "source": [
        "The output of this code should be {'000': 1024} which indicates that the error has been corrected and the original state of the qubits has been restored."
      ],
      "metadata": {
        "id": "OX6dCmzi1FaN"
      }
    },
    {
      "cell_type": "markdown",
      "source": [
        "#Test this method on DJ algorithm!\n",
        "\n",
        "we will run our Deutsch-Josza theoretically, on the quantum simulator as in the first step, but this time with an induced bit flip error."
      ],
      "metadata": {
        "id": "qUJaFiliPD7t"
      }
    },
    {
      "cell_type": "code",
      "source": [
        "!pip install qutip\n",
        "!pip install Qconfig"
      ],
      "metadata": {
        "colab": {
          "base_uri": "https://localhost:8080/"
        },
        "id": "3QQ1L38gM5YA",
        "outputId": "5641f1e8-024d-49cd-d7cd-a25ff8af2535"
      },
      "execution_count": 305,
      "outputs": [
        {
          "output_type": "stream",
          "name": "stdout",
          "text": [
            "Looking in indexes: https://pypi.org/simple, https://us-python.pkg.dev/colab-wheels/public/simple/\n",
            "Requirement already satisfied: qutip in /usr/local/lib/python3.9/dist-packages (4.7.1)\n",
            "Requirement already satisfied: numpy>=1.16.6 in /usr/local/lib/python3.9/dist-packages (from qutip) (1.22.4)\n",
            "Requirement already satisfied: packaging in /usr/local/lib/python3.9/dist-packages (from qutip) (23.0)\n",
            "Requirement already satisfied: scipy>=1.0 in /usr/local/lib/python3.9/dist-packages (from qutip) (1.10.1)\n",
            "Looking in indexes: https://pypi.org/simple, https://us-python.pkg.dev/colab-wheels/public/simple/\n",
            "Collecting Qconfig\n",
            "  Downloading qconfig-0.0.1-py3-none-any.whl (6.0 kB)\n",
            "Requirement already satisfied: pyyaml in /usr/local/lib/python3.9/dist-packages (from Qconfig) (6.0)\n",
            "Installing collected packages: Qconfig\n",
            "Successfully installed Qconfig-0.0.1\n"
          ]
        }
      ]
    },
    {
      "cell_type": "code",
      "source": [
        "# from qiskit import QuantumProgram\n",
        "from qiskit.tools.visualization import plot_histogram\n",
        "# from qiskit.backends import local_backends, remote_backends\n",
        "from qiskit import QuantumCircuit, ClassicalRegister, QuantumRegister\n",
        "from qutip import *\n",
        "from IPython.display import display, HTML\n",
        "# import Qconfig\n",
        "import numpy as np\n",
        "import matplotlib.pyplot as plt\n",
        "# run circuit with single bit-flip error & 3-qubits correction on local quantum simulator\n",
        "\n",
        "# 6 qubits Deutsch-Josza for 2-qubits version (w/ 5 qubits for error correction for the |psi> state)\n",
        "n = 6\n",
        "\n",
        "# initialize quantum and classical registers\n",
        "\n",
        "q2 = QuantumRegister(n, 'q2')\n",
        "\n",
        "c2 = ClassicalRegister(n, 'c2')\n",
        "\n",
        "# create circuit --> theoretical Deutsch-Josza 2-qubits circuit w/ 3-qubits QEC\n",
        "t3qec_DJ2 = QuantumCircuit(q2, c2)\n",
        "\n",
        "# add gates\n",
        "# encode state\n",
        "t3qec_DJ2.cx(q2[0], q2[1]) \n",
        "t3qec_DJ2.cx(q2[1], q2[2]) \n",
        "\n",
        "# we now introduce errors to our state. There will be none here as this\n",
        "# is a simulation, but the error would come from the running of the \n",
        "# Deutsch-Josza algorithm qubit 0 and qubit 5 are our DJ qubits\n",
        "# encode superposition\n",
        "t3qec_DJ2.h(q2[0])\n",
        "t3qec_DJ2.h(q2[5])\n",
        "# U_f gate --> equivalent to CNOT that flips if control is 0 instead of 1\n",
        "t3qec_DJ2.x(q2[0])\n",
        "t3qec_DJ2.cx(q2[0], q2[5])\n",
        "t3qec_DJ2.x(q2[0])\n",
        "# decode superposition\n",
        "t3qec_DJ2.h(q2[0])\n",
        "\n",
        "# since there was no error since this is a simulation, we introduce a manual\n",
        "# error to show that it would be corrected if this happened during Deutsch-Josza\n",
        "t3qec_DJ2.x(q2[0])\n",
        "\n",
        "# error detection component, looking for error on |psi>\n",
        "t3qec_DJ2.cx(q2[0], q2[3]) \n",
        "t3qec_DJ2.cx(q2[1], q2[3]) \n",
        "t3qec_DJ2.cx(q2[0], q2[4]) \n",
        "t3qec_DJ2.cx(q2[2], q2[4]) \n",
        "\n",
        "# error correction component, correcting error if found\n",
        "t3qec_DJ2.ccx(q2[3], q2[4], q2[0])\n",
        "t3qec_DJ2.ccx(q2[3], q2[4], q2[1])\n",
        "t3qec_DJ2.ccx(q2[3], q2[4], q2[2])\n",
        "t3qec_DJ2.cx(q2[3], q2[1]) \n",
        "t3qec_DJ2.cx(q2[4], q2[2])\n",
        "\n",
        "# measurement operation --> only care about |psi>\n",
        "t3qec_DJ2.measure(q2[0], c2[0])\n",
        "\n",
        "# execute circuit\n",
        "# results2 = qp2.execute(\"t3qec_DJ2\")\n",
        "# Simulate the circuit\n",
        "simulator = Aer.get_backend('qasm_simulator')\n",
        "result = execute(t3qec_DJ2, backend=simulator, shots=1024).result()\n",
        "\n",
        "# Print the counts\n",
        "counts = result.get_counts(t3qec_DJ2)\n",
        "print(counts)\n",
        "plot_histogram(counts)\n"
      ],
      "metadata": {
        "colab": {
          "base_uri": "https://localhost:8080/",
          "height": 524
        },
        "id": "9xV1J8ztMZTY",
        "outputId": "0633b3b7-1b57-4399-933e-f9dd7483a592"
      },
      "execution_count": 310,
      "outputs": [
        {
          "output_type": "stream",
          "name": "stdout",
          "text": [
            "{'000000': 1024}\n"
          ]
        },
        {
          "output_type": "execute_result",
          "data": {
            "text/plain": [
              "<Figure size 700x500 with 1 Axes>"
            ],
            "image/png": "[encoded data removed]"
          },
          "metadata": {},
          "execution_count": 310
        }
      ]
    },
    {
      "cell_type": "markdown",
      "source": [
        "As we can see, we get the theoretical result as we were expecting and as we ran without the error correction. This makes sense, since there were no \"real\" error to correct here. We added a manual X-flip error to show that this 3-qubits error correction code can effectively correct through an actual algorithm. The more detailled proof of work of the whole 3-qubits code can be found in its own file."
      ],
      "metadata": {
        "id": "dPCWzNZAPH_H"
      }
    },
    {
      "cell_type": "markdown",
      "source": [
        "#Five-Qubit Error Correcting code\n",
        "\n",
        "Note that in this example, we only implemented the syndrome of X gate errors for the sake of simplicity. "
      ],
      "metadata": {
        "id": "-mtaGJGQC3OB"
      }
    },
    {
      "cell_type": "code",
      "source": [
        "from qiskit import QuantumCircuit, Aer, execute\n",
        "\n",
        "# Define the circuit\n",
        "qc = QuantumCircuit(5, 5)\n",
        "\n",
        "# Step 1: Initialize the qubits to |0>\n",
        "qc.reset(range(5))\n",
        "\n",
        "# Step 2: Encode the logical qubit\n",
        "qc.cx(0, 2)\n",
        "qc.cx(1, 2)\n",
        "qc.cx(1, 3)\n",
        "qc.cx(2, 4)\n",
        "\n",
        "# Step 3: Apply a bit flip error to the third qubit\n",
        "qc.x(2)\n",
        "\n",
        "# Step 4: Measure the qubits and the syndrome bits\n",
        "qc.cx(0, 2)\n",
        "qc.cx(1, 2)\n",
        "qc.cx(1, 3)\n",
        "qc.cx(2, 4)\n",
        "qc.measure(range(5), range(5))\n",
        "backend = Aer.get_backend('qasm_simulator')\n",
        "result = execute(qc, backend=backend, shots=1).result()\n",
        "# Step 5: Correct the error based on the syndrome\n",
        "syndrome = list(result.get_counts().keys())[0]\n",
        "# print(syndrome)\n",
        "if(syndrome=='10100'):\n",
        "  qc.x(2)\n",
        "  qc.x(4)\n",
        "elif(syndrome=='10101'):\n",
        "  qc.x(2)\n",
        "  qc.x(4)\n",
        "elif(syndrome=='11110'):\n",
        "  qc.x(1)\n",
        "  qc.x(2)\n",
        "  qc.x(3)\n",
        "  qc.x(4)\n",
        "elif(syndrome=='01000'):\n",
        "  qc.x(3)\n",
        "elif(syndrome=='10000'):\n",
        "  qc.x(4)\n",
        "\n",
        "\n",
        "\n",
        "\n",
        "# Step 6: Measure the logical qubit\n",
        "qc.cx(2, 4)\n",
        "qc.cx(1, 3)\n",
        "qc.cx(1, 2)\n",
        "qc.cx(0, 2)\n",
        "qc.measure(range(5), range(5))\n",
        "\n",
        "# Run the circuit and print the result\n",
        "result = execute(qc, backend=backend, shots=1024).result()\n",
        "\n",
        "print(result.get_counts())\n",
        "plot_histogram(result.get_counts())\n"
      ],
      "metadata": {
        "colab": {
          "base_uri": "https://localhost:8080/",
          "height": 512
        },
        "id": "bhQvmN_GC3a5",
        "outputId": "5ab4f23c-6706-476e-edcf-149e42229ecf"
      },
      "execution_count": 134,
      "outputs": [
        {
          "output_type": "stream",
          "name": "stdout",
          "text": [
            "{'00000': 1024}\n"
          ]
        },
        {
          "output_type": "execute_result",
          "data": {
            "text/plain": [
              "<Figure size 700x500 with 1 Axes>"
            ],
            "image/png": "[encoded data removed]"
          },
          "metadata": {},
          "execution_count": 134
        }
      ]
    },
    {
      "cell_type": "markdown",
      "source": [
        "The output of this code should be {'000': 1024} which indicates that the error has been corrected and the original state of the qubits has been restored."
      ],
      "metadata": {
        "id": "xD-MlANWV_WD"
      }
    },
    {
      "cell_type": "markdown",
      "source": [
        "#Surface Error Correcting code\n",
        "\n",
        "Here's an example code for a simple 4-qubit surface code. This code encodes two logical qubits using four physical qubits and applies a single X error to one of the data qubits. Then, it measures the syndrome and applies an error correction operation based on the measured syndrome. Finally, it measures the two data qubits to extract the logical values."
      ],
      "metadata": {
        "id": "aicyKn9tYq-n"
      }
    },
    {
      "cell_type": "code",
      "source": [
        "from qiskit import QuantumRegister, ClassicalRegister, QuantumCircuit, Aer, execute\n",
        "\n",
        "# Define the registers and the circuit\n",
        "q = QuantumRegister(6, 'q')\n",
        "c = ClassicalRegister(2, 'c')\n",
        "qc = QuantumCircuit(q, c)\n",
        "\n",
        "# Encoding circuit\n",
        "qc.cx(q[1], q[2])\n",
        "qc.cx(q[0], q[2])\n",
        "qc.cx(q[1], q[3])\n",
        "qc.cx(q[0], q[3])\n",
        "qc.barrier()\n",
        "\n",
        "# Error\n",
        "qc.x(q[1])\n",
        "qc.barrier()\n",
        "\n",
        "# Syndrome measurement\n",
        "qc.cx(q[1], q[4])\n",
        "qc.cx(q[2], q[4])\n",
        "qc.cx(q[2], q[5])\n",
        "qc.cx(q[3], q[5])\n",
        "qc.measure(q[4], c[0])\n",
        "qc.measure(q[5], c[1])\n",
        "\n",
        "# Error correction\n",
        "qc.x(q[0]).c_if(c, 0)\n",
        "qc.x(q[1]).c_if(c, 1)\n",
        "qc.x(q[2]).c_if(c, 0)\n",
        "qc.x(q[3]).c_if(c, 1)\n",
        "\n",
        "# Measure data qubits\n",
        "qc.measure(q[0], c[0])\n",
        "qc.measure(q[1], c[1])\n",
        "\n",
        "# Simulate the circuit\n",
        "backend = Aer.get_backend('qasm_simulator')\n",
        "job = execute(qc, backend, shots=1024)\n",
        "result = job.result()\n",
        "counts = result.get_counts()\n",
        "\n",
        "# Print the results\n",
        "print(counts)\n",
        "plot_histogram(result.get_counts())\n",
        "\n"
      ],
      "metadata": {
        "colab": {
          "base_uri": "https://localhost:8080/",
          "height": 478
        },
        "id": "hEA8t5VypRx_",
        "outputId": "90a53b70-0f98-41ea-f594-295bc3f55bda"
      },
      "execution_count": 166,
      "outputs": [
        {
          "output_type": "stream",
          "name": "stdout",
          "text": [
            "{'00': 1024}\n"
          ]
        },
        {
          "output_type": "execute_result",
          "data": {
            "text/plain": [
              "<Figure size 700x500 with 1 Axes>"
            ],
            "image/png": "[encoded data removed]"
          },
          "metadata": {},
          "execution_count": 166
        }
      ]
    },
    {
      "cell_type": "markdown",
      "source": [
        "#NEAT as an error correcting method\n",
        "\n",
        "In what follows, we have a small example for a NEAT error correcting code on the simplest line lattice. "
      ],
      "metadata": {
        "id": "CX0CN_6-psr3"
      }
    },
    {
      "cell_type": "code",
      "source": [
        "from qiskit import QuantumRegister, ClassicalRegister, QuantumCircuit\n",
        "from qiskit.circuit.library import XGate, HGate, CXGate, CZGate\n",
        "from qiskit.quantum_info import Pauli\n",
        "\n",
        "# Define the stabilizer generators\n",
        "S1 = Pauli(label='XXXXX')\n",
        "S1 *= Pauli(label='ZZZZX')\n",
        "S1 *= Pauli(label='YYZYY')\n",
        "S1 *= Pauli(label='YYXYY')\n",
        "\n",
        "S2 = Pauli(label='XXXXX')\n",
        "S2 *= Pauli(label='XXXZZ')\n",
        "S2 *= Pauli(label='XYYXY')\n",
        "\n",
        "S3 = Pauli(label='XXXXX')\n",
        "S3 *= Pauli(label='YYZZZ')\n",
        "S3 *= Pauli(label='XXYXY')\n",
        "\n",
        "S4 = Pauli(label='XXXXX')\n",
        "S4 *= Pauli(label='XYYXY')\n",
        "S4 *= Pauli(label='ZZXYZ')\n",
        "S4 *= Pauli(label='YYZZZ')\n",
        "\n",
        "# Create a five-qubit quantum register and a five-bit classical register\n",
        "qreg = QuantumRegister(5)\n",
        "creg = ClassicalRegister(5)\n",
        "\n",
        "# Create a quantum circuit\n",
        "qc = QuantumCircuit(qreg, creg)\n",
        "\n",
        "# Add the stabilizer generators to the circuit\n",
        "qc.append(S1.to_instruction(), [0, 1, 2, 3, 4])\n",
        "qc.append(S2.to_instruction(), [0, 1, 2, 3, 4])\n",
        "qc.append(S3.to_instruction(), [0, 1, 2, 3, 4])\n",
        "qc.append(S4.to_instruction(), [0, 1, 2, 3, 4])\n",
        "\n",
        "# Measure the qubits\n",
        "qc.measure(qreg, creg)\n",
        "\n",
        "# Draw the circuit\n",
        "# qc.draw()"
      ],
      "metadata": {
        "colab": {
          "base_uri": "https://localhost:8080/"
        },
        "id": "QBESyey7HKFA",
        "outputId": "6e20bf8f-5c08-42ff-9271-db9730101bd9"
      },
      "execution_count": 169,
      "outputs": [
        {
          "output_type": "stream",
          "name": "stderr",
          "text": [
            "<ipython-input-169-c82ccee21350>:6: DeprecationWarning: The 'label' keyword argument of 'Pauli' is deprecated as of Qiskit Terra 0.17 and will be removed in version 0.23 or later. Pass the label positionally instead, such as 'Pauli(\"XYZ\")'.\n",
            "  S1 = Pauli(label='XXXXX')\n",
            "<ipython-input-169-c82ccee21350>:7: DeprecationWarning: The 'label' keyword argument of 'Pauli' is deprecated as of Qiskit Terra 0.17 and will be removed in version 0.23 or later. Pass the label positionally instead, such as 'Pauli(\"XYZ\")'.\n",
            "  S1 *= Pauli(label='ZZZZX')\n",
            "<ipython-input-169-c82ccee21350>:8: DeprecationWarning: The 'label' keyword argument of 'Pauli' is deprecated as of Qiskit Terra 0.17 and will be removed in version 0.23 or later. Pass the label positionally instead, such as 'Pauli(\"XYZ\")'.\n",
            "  S1 *= Pauli(label='YYZYY')\n",
            "<ipython-input-169-c82ccee21350>:9: DeprecationWarning: The 'label' keyword argument of 'Pauli' is deprecated as of Qiskit Terra 0.17 and will be removed in version 0.23 or later. Pass the label positionally instead, such as 'Pauli(\"XYZ\")'.\n",
            "  S1 *= Pauli(label='YYXYY')\n",
            "<ipython-input-169-c82ccee21350>:11: DeprecationWarning: The 'label' keyword argument of 'Pauli' is deprecated as of Qiskit Terra 0.17 and will be removed in version 0.23 or later. Pass the label positionally instead, such as 'Pauli(\"XYZ\")'.\n",
            "  S2 = Pauli(label='XXXXX')\n",
            "<ipython-input-169-c82ccee21350>:12: DeprecationWarning: The 'label' keyword argument of 'Pauli' is deprecated as of Qiskit Terra 0.17 and will be removed in version 0.23 or later. Pass the label positionally instead, such as 'Pauli(\"XYZ\")'.\n",
            "  S2 *= Pauli(label='XXXZZ')\n",
            "<ipython-input-169-c82ccee21350>:14: DeprecationWarning: The 'label' keyword argument of 'Pauli' is deprecated as of Qiskit Terra 0.17 and will be removed in version 0.23 or later. Pass the label positionally instead, such as 'Pauli(\"XYZ\")'.\n",
            "  S2 *= Pauli(label='XYYXY')\n",
            "<ipython-input-169-c82ccee21350>:16: DeprecationWarning: The 'label' keyword argument of 'Pauli' is deprecated as of Qiskit Terra 0.17 and will be removed in version 0.23 or later. Pass the label positionally instead, such as 'Pauli(\"XYZ\")'.\n",
            "  S3 = Pauli(label='XXXXX')\n",
            "<ipython-input-169-c82ccee21350>:17: DeprecationWarning: The 'label' keyword argument of 'Pauli' is deprecated as of Qiskit Terra 0.17 and will be removed in version 0.23 or later. Pass the label positionally instead, such as 'Pauli(\"XYZ\")'.\n",
            "  S3 *= Pauli(label='YYZZZ')\n",
            "<ipython-input-169-c82ccee21350>:18: DeprecationWarning: The 'label' keyword argument of 'Pauli' is deprecated as of Qiskit Terra 0.17 and will be removed in version 0.23 or later. Pass the label positionally instead, such as 'Pauli(\"XYZ\")'.\n",
            "  S3 *= Pauli(label='XXYXY')\n",
            "<ipython-input-169-c82ccee21350>:21: DeprecationWarning: The 'label' keyword argument of 'Pauli' is deprecated as of Qiskit Terra 0.17 and will be removed in version 0.23 or later. Pass the label positionally instead, such as 'Pauli(\"XYZ\")'.\n",
            "  S4 = Pauli(label='XXXXX')\n",
            "<ipython-input-169-c82ccee21350>:22: DeprecationWarning: The 'label' keyword argument of 'Pauli' is deprecated as of Qiskit Terra 0.17 and will be removed in version 0.23 or later. Pass the label positionally instead, such as 'Pauli(\"XYZ\")'.\n",
            "  S4 *= Pauli(label='XYYXY')\n",
            "<ipython-input-169-c82ccee21350>:23: DeprecationWarning: The 'label' keyword argument of 'Pauli' is deprecated as of Qiskit Terra 0.17 and will be removed in version 0.23 or later. Pass the label positionally instead, such as 'Pauli(\"XYZ\")'.\n",
            "  S4 *= Pauli(label='ZZXYZ')\n",
            "<ipython-input-169-c82ccee21350>:24: DeprecationWarning: The 'label' keyword argument of 'Pauli' is deprecated as of Qiskit Terra 0.17 and will be removed in version 0.23 or later. Pass the label positionally instead, such as 'Pauli(\"XYZ\")'.\n",
            "  S4 *= Pauli(label='YYZZZ')\n"
          ]
        },
        {
          "output_type": "execute_result",
          "data": {
            "text/plain": [
              "<qiskit.circuit.instructionset.InstructionSet at 0x7f2ac84603d0>"
            ]
          },
          "metadata": {},
          "execution_count": 169
        }
      ]
    },
    {
      "cell_type": "code",
      "source": [
        "from qiskit import Aer, execute\n",
        "\n",
        "backend = Aer.get_backend('qasm_simulator')\n",
        "job = execute(qc, backend, shots=10)\n",
        "result = job.result()\n",
        "counts = result.get_counts(qc)\n",
        "\n",
        "print(counts)\n",
        "plot_histogram(result.get_counts())\n"
      ],
      "metadata": {
        "colab": {
          "base_uri": "https://localhost:8080/",
          "height": 512
        },
        "id": "b-ctvF-5JSci",
        "outputId": "4ba83136-316b-4441-c5d0-387a0b513acb"
      },
      "execution_count": 170,
      "outputs": [
        {
          "output_type": "stream",
          "name": "stdout",
          "text": [
            "{'00000': 10}\n"
          ]
        },
        {
          "output_type": "execute_result",
          "data": {
            "text/plain": [
              "<Figure size 700x500 with 1 Axes>"
            ],
            "image/png": "[encoded data removed]"
          },
          "metadata": {},
          "execution_count": 170
        }
      ]
    },
    {
      "cell_type": "markdown",
      "source": [
        "In the [7,1,3] code that follows"
      ],
      "metadata": {
        "id": "mLy72u3DJiI5"
      }
    },
    {
      "cell_type": "code",
      "source": [
        "from qiskit import QuantumCircuit, Aer, execute\n",
        "\n",
        "# Create the quantum circuit with 7 qubits and 7 classical register\n",
        "qc = QuantumCircuit(7, 1)\n",
        "\n",
        "# Apply a Hadamard gate to qubits 0, 1, 2.\n",
        "qc.h(range(5))\n",
        "\n",
        "# Define the logical operators for the [7,4] CSS code\n",
        "X_L = [1, 0, 1, 0, 1, 0, 1]\n",
        "Z_L = [0, 1, 1, 0, 0, 1, 1]\n",
        "\n",
        "# Apply the X and Z logical operators to the code qubits\n",
        "for i in range(3):\n",
        "    if X_L[i] == 1:\n",
        "        qc.x(i)\n",
        "    if Z_L[i] == 1:\n",
        "        qc.z(i)\n",
        "# Add the error\n",
        "qc.x(0)\n",
        "# Apply a Hadamard gate to qubits 0, 1, 2.\n",
        "qc.h(range(5))\n",
        "\n",
        "# Measure the first qubit to extract the logical X operator\n",
        "qc.measure(0, 0)\n",
        "\n",
        "# Run the quantum circuit on the simulator\n",
        "simulator = Aer.get_backend('qasm_simulator')\n",
        "job = execute(qc, simulator, shots=1024)\n",
        "result = job.result()\n",
        "\n",
        "# Print the measurement results\n",
        "print(result.get_counts(qc))\n",
        "plot_histogram(result.get_counts())\n"
      ],
      "metadata": {
        "colab": {
          "base_uri": "https://localhost:8080/",
          "height": 466
        },
        "id": "vQSnUt_K5MRK",
        "outputId": "32c0e7cc-add9-4095-ebd2-c70dbbde9f59"
      },
      "execution_count": 312,
      "outputs": [
        {
          "output_type": "stream",
          "name": "stdout",
          "text": [
            "{'0': 1024}\n"
          ]
        },
        {
          "output_type": "execute_result",
          "data": {
            "text/plain": [
              "<Figure size 700x500 with 1 Axes>"
            ],
            "image/png": "[encoded data removed]"
          },
          "metadata": {},
          "execution_count": 312
        }
      ]
    },
    {
      "cell_type": "markdown",
      "source": [
        "And we get the expected result! "
      ],
      "metadata": {
        "id": "izetYIi3Pbjk"
      }
    }
  ]
}